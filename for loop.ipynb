{
 "cells": [
  {
   "cell_type": "code",
   "execution_count": 1,
   "id": "20020b43-35e1-4303-975b-89777954f8b9",
   "metadata": {
    "tags": []
   },
   "outputs": [
    {
     "name": "stdout",
     "output_type": "stream",
     "text": [
      "1\n",
      "2\n",
      "3\n",
      "4\n",
      "5\n",
      "6\n",
      "7\n",
      "8\n",
      "9\n",
      "10\n"
     ]
    }
   ],
   "source": [
    "#Basic level \n",
    "# 1.Python program to print numbers from 1 to 10 using a for loop\n",
    "\n",
    "for number in range(1, 11):\n",
    "    print(number)\n"
   ]
  },
  {
   "cell_type": "code",
   "execution_count": 2,
   "id": "7e23f961-a5c0-4c4c-8d47-bca3c39df9b4",
   "metadata": {
    "tags": []
   },
   "outputs": [
    {
     "name": "stdout",
     "output_type": "stream",
     "text": [
      "The sum of numbers in the list is: 15\n"
     ]
    }
   ],
   "source": [
    "# 2 Python program to calculate the sum of all numbers in a list using a for loop\n",
    "\n",
    "def calculate_sum(numbers):\n",
    "    total_sum = 0\n",
    "    for num in numbers:\n",
    "        total_sum += num\n",
    "    return total_sum\n",
    "\n",
    "# Example usage\n",
    "numbers_list = [1, 2, 3, 4, 5]\n",
    "result = calculate_sum(numbers_list)\n",
    "print(f\"The sum of numbers in the list is: {result}\")\n"
   ]
  },
  {
   "cell_type": "code",
   "execution_count": 3,
   "id": "32305bba-63aa-44ad-ab59-259ec00ce08b",
   "metadata": {
    "tags": []
   },
   "outputs": [
    {
     "name": "stdout",
     "output_type": "stream",
     "text": [
      "The reversed string is: !dlroW ,olleH\n"
     ]
    }
   ],
   "source": [
    "#3# Python program to print characters of a string in reverse order using a for loop\n",
    "\n",
    "def reverse_string(input_string):\n",
    "    reversed_str = \"\"\n",
    "    for char in reversed(input_string):\n",
    "        reversed_str += char\n",
    "    return reversed_str\n",
    "\n",
    "# Example usage\n",
    "input_str = \"Hello, World!\"\n",
    "reversed_result = reverse_string(input_str)\n",
    "print(f\"The reversed string is: {reversed_result}\")\n"
   ]
  },
  {
   "cell_type": "code",
   "execution_count": 5,
   "id": "44e52e67-08d5-4df7-8d1a-51272a8fb982",
   "metadata": {
    "tags": []
   },
   "outputs": [
    {
     "name": "stdout",
     "output_type": "stream",
     "text": [
      "The factorial of 5 is: 120\n"
     ]
    }
   ],
   "source": [
    "#4 Python program to find the factorial of a given number using a for loop\n",
    "\n",
    "def calculate_factorial(number):\n",
    "    factorial_result = 1\n",
    "    for i in range(1, number + 1):\n",
    "        factorial_result *= i\n",
    "    return factorial_result\n",
    "\n",
    "# Example usage\n",
    "input_number = 5\n",
    "factorial_result = calculate_factorial(input_number)\n",
    "print(f\"The factorial of {input_number} is: {factorial_result}\")\n"
   ]
  },
  {
   "cell_type": "code",
   "execution_count": 6,
   "id": "4984b235-074a-403d-ba03-de82774b31fc",
   "metadata": {
    "tags": []
   },
   "outputs": [
    {
     "name": "stdout",
     "output_type": "stream",
     "text": [
      "Multiplication table for 7:\n",
      "\n",
      "7 x 1 = 7\n",
      "7 x 2 = 14\n",
      "7 x 3 = 21\n",
      "7 x 4 = 28\n",
      "7 x 5 = 35\n",
      "7 x 6 = 42\n",
      "7 x 7 = 49\n",
      "7 x 8 = 56\n",
      "7 x 9 = 63\n",
      "7 x 10 = 70\n"
     ]
    }
   ],
   "source": [
    "# 5 Python program to print the multiplication table of a given number using a for loop\n",
    "\n",
    "def multiplication_table(number):\n",
    "    for i in range(1, 11):\n",
    "        result = number * i\n",
    "        print(f\"{number} x {i} = {result}\")\n",
    "\n",
    "# Example usage\n",
    "input_number = 7\n",
    "print(f\"Multiplication table for {input_number}:\\n\")\n",
    "multiplication_table(input_number)\n"
   ]
  },
  {
   "cell_type": "code",
   "execution_count": 7,
   "id": "3c1e53ee-345d-4c46-850c-6b07b9508389",
   "metadata": {
    "tags": []
   },
   "outputs": [
    {
     "name": "stdout",
     "output_type": "stream",
     "text": [
      "Number of even numbers: 5\n",
      "Number of odd numbers: 5\n"
     ]
    }
   ],
   "source": [
    "#6# Python program to count the number of even and odd numbers in a list using a for loop\n",
    "\n",
    "def count_even_odd(numbers):\n",
    "    even_count = 0\n",
    "    odd_count = 0\n",
    "    for num in numbers:\n",
    "        if num % 2 == 0:\n",
    "            even_count += 1\n",
    "        else:\n",
    "            odd_count += 1\n",
    "    return even_count, odd_count\n",
    "\n",
    "# Example usage\n",
    "numbers_list = [1, 2, 3, 4, 5, 6, 7, 8, 9, 10]\n",
    "even_count, odd_count = count_even_odd(numbers_list)\n",
    "print(f\"Number of even numbers: {even_count}\")\n",
    "print(f\"Number of odd numbers: {odd_count}\")\n"
   ]
  },
  {
   "cell_type": "code",
   "execution_count": 9,
   "id": "4615770a-4495-4dd8-bfaa-d16729947717",
   "metadata": {
    "tags": []
   },
   "outputs": [
    {
     "name": "stdout",
     "output_type": "stream",
     "text": [
      "The square of 1 is: 1\n",
      "The square of 2 is: 4\n",
      "The square of 3 is: 9\n",
      "The square of 4 is: 16\n",
      "The square of 5 is: 25\n"
     ]
    }
   ],
   "source": [
    "#7 # Python program to print the squares of numbers from 1 to 5 using a for loop\n",
    "\n",
    "for num in range(1, 6):\n",
    "    square = num ** 2\n",
    "    print(f\"The square of {num} is: {square}\")\n"
   ]
  },
  {
   "cell_type": "code",
   "execution_count": 10,
   "id": "f29bfbe0-08d5-45e0-b019-b2f262531073",
   "metadata": {
    "tags": []
   },
   "outputs": [
    {
     "name": "stdout",
     "output_type": "stream",
     "text": [
      "The length of the string is: 13\n"
     ]
    }
   ],
   "source": [
    "#8 # Python program to find the length of a string without using the len() function\n",
    "\n",
    "def calculate_string_length(input_string):\n",
    "    length = 0\n",
    "    for char in input_string:\n",
    "        length += 1\n",
    "    return length\n",
    "\n",
    "# Example usage\n",
    "input_str = \"Hello, World!\"\n",
    "length_result = calculate_string_length(input_str)\n",
    "print(f\"The length of the string is: {length_result}\")\n"
   ]
  },
  {
   "cell_type": "code",
   "execution_count": 11,
   "id": "cfab45e3-9e03-4a04-af24-1733e733c435",
   "metadata": {
    "tags": []
   },
   "outputs": [
    {
     "name": "stdout",
     "output_type": "stream",
     "text": [
      "The average of the numbers is: 30.0\n"
     ]
    }
   ],
   "source": [
    "#9 # Python program to calculate the average of a list of numbers using a for loop\n",
    "\n",
    "def calculate_average(numbers):\n",
    "    total_sum = 0\n",
    "    count = 0\n",
    "\n",
    "    for num in numbers:\n",
    "        total_sum += num\n",
    "        count += 1\n",
    "\n",
    "    if count == 0:\n",
    "        return 0  # To avoid division by zero if the list is empty\n",
    "    else:\n",
    "        average = total_sum / count\n",
    "        return average\n",
    "\n",
    "# Example usage\n",
    "numbers_list = [10, 20, 30, 40, 50]\n",
    "average_result = calculate_average(numbers_list)\n",
    "print(f\"The average of the numbers is: {average_result}\")\n"
   ]
  },
  {
   "cell_type": "code",
   "execution_count": 12,
   "id": "5810da08-ce02-4922-8546-cd45b3cec29a",
   "metadata": {
    "tags": []
   },
   "outputs": [
    {
     "name": "stdout",
     "output_type": "stream",
     "text": [
      "The first 10 Fibonacci numbers are: [0, 1, 1, 2, 3, 5, 8, 13, 21, 34]\n"
     ]
    }
   ],
   "source": [
    "#10 # Python program to print the first n Fibonacci numbers using a for loop\n",
    "\n",
    "def generate_fibonacci(n):\n",
    "    fibonacci_sequence = [0, 1]\n",
    "\n",
    "    for i in range(2, n):\n",
    "        next_number = fibonacci_sequence[-1] + fibonacci_sequence[-2]\n",
    "        fibonacci_sequence.append(next_number)\n",
    "\n",
    "    return fibonacci_sequence\n",
    "\n",
    "# Example usage\n",
    "n = 10\n",
    "fibonacci_result = generate_fibonacci(n)\n",
    "print(f\"The first {n} Fibonacci numbers are: {fibonacci_result}\")\n"
   ]
  },
  {
   "cell_type": "code",
   "execution_count": 13,
   "id": "90e2bd30-9949-47fa-8a3c-3a1a5650fa31",
   "metadata": {
    "tags": []
   },
   "outputs": [
    {
     "name": "stdout",
     "output_type": "stream",
     "text": [
      "The list contains duplicates.\n"
     ]
    }
   ],
   "source": [
    "#Intermediate level\n",
    "#11# Python program to check if a given list contains any duplicates using a for loop\n",
    "\n",
    "def has_duplicates(lst):\n",
    "    seen = set()\n",
    "\n",
    "    for item in lst:\n",
    "        if item in seen:\n",
    "            return True\n",
    "        seen.add(item)\n",
    "\n",
    "    return False\n",
    "\n",
    "# Example usage\n",
    "numbers_list = [1, 2, 3, 4, 5, 1, 6, 7]\n",
    "if has_duplicates(numbers_list):\n",
    "    print(\"The list contains duplicates.\")\n",
    "else:\n",
    "    print(\"The list does not contain duplicates.\")\n"
   ]
  },
  {
   "cell_type": "code",
   "execution_count": 14,
   "id": "f637a035-6d89-4181-b658-6b90c8ccc722",
   "metadata": {
    "tags": []
   },
   "outputs": [
    {
     "name": "stdout",
     "output_type": "stream",
     "text": [
      "Prime numbers in the range [10, 50]:\n",
      "11\n",
      "13\n",
      "17\n",
      "19\n",
      "23\n",
      "29\n",
      "31\n",
      "37\n",
      "41\n",
      "43\n",
      "47\n"
     ]
    }
   ],
   "source": [
    "#12# Python program to print prime numbers in a given range using a for loop\n",
    "\n",
    "def is_prime(number):\n",
    "    if number < 2:\n",
    "        return False\n",
    "    for i in range(2, int(number**0.5) + 1):\n",
    "        if number % i == 0:\n",
    "            return False\n",
    "    return True\n",
    "\n",
    "def print_primes_in_range(start, end):\n",
    "    print(f\"Prime numbers in the range [{start}, {end}]:\")\n",
    "    for num in range(start, end + 1):\n",
    "        if is_prime(num):\n",
    "            print(num)\n",
    "\n",
    "# Example usage\n",
    "start_range = 10\n",
    "end_range = 50\n",
    "print_primes_in_range(start_range, end_range)\n"
   ]
  },
  {
   "cell_type": "code",
   "execution_count": 15,
   "id": "2d1ca93d-9e20-4856-b350-561cf81d3eb5",
   "metadata": {
    "tags": []
   },
   "outputs": [
    {
     "name": "stdout",
     "output_type": "stream",
     "text": [
      "The number of vowels in the string is: 3\n"
     ]
    }
   ],
   "source": [
    "#13 # Python program to count the number of vowels in a string using a for loop\n",
    "\n",
    "def count_vowels(input_string):\n",
    "    vowels = \"aeiouAEIOU\"\n",
    "    vowel_count = 0\n",
    "\n",
    "    for char in input_string:\n",
    "        if char in vowels:\n",
    "            vowel_count += 1\n",
    "\n",
    "    return vowel_count\n",
    "\n",
    "# Example usage\n",
    "input_str = \"Hello, World!\"\n",
    "vowel_count_result = count_vowels(input_str)\n",
    "print(f\"The number of vowels in the string is: {vowel_count_result}\")\n"
   ]
  },
  {
   "cell_type": "code",
   "execution_count": 16,
   "id": "32b24254-edde-4902-8c54-59662d5fd7f6",
   "metadata": {
    "tags": []
   },
   "outputs": [
    {
     "name": "stdout",
     "output_type": "stream",
     "text": [
      "The maximum element in the 2D list is: 9\n"
     ]
    }
   ],
   "source": [
    "#14 # Python program to find the maximum element in a 2D list using nested for loops\n",
    "\n",
    "def find_max_element(matrix):\n",
    "    if not matrix or not matrix[0]:\n",
    "        return None  # Return None if the matrix is empty\n",
    "\n",
    "    max_element = matrix[0][0]\n",
    "\n",
    "    for row in matrix:\n",
    "        for element in row:\n",
    "            if element > max_element:\n",
    "                max_element = element\n",
    "\n",
    "    return max_element\n",
    "\n",
    "# Example usage\n",
    "matrix_2d = [\n",
    "    [1, 2, 3],\n",
    "    [4, 5, 6],\n",
    "    [7, 8, 9]\n",
    "]\n",
    "\n",
    "max_element_result = find_max_element(matrix_2d)\n",
    "print(f\"The maximum element in the 2D list is: {max_element_result}\")\n"
   ]
  },
  {
   "cell_type": "code",
   "execution_count": 17,
   "id": "28018a07-eb2a-47b6-837a-6d1946eb0779",
   "metadata": {
    "tags": []
   },
   "outputs": [
    {
     "name": "stdout",
     "output_type": "stream",
     "text": [
      "The list after removing all occurrences of 2: [1, 3, 4, 5, 6]\n"
     ]
    }
   ],
   "source": [
    "#15 # Python program to remove all occurrences of a specific element from a list using a for loop\n",
    "\n",
    "def remove_element(lst, target):\n",
    "    # Use a list comprehension to create a new list without the target element\n",
    "    new_list = [item for item in lst if item != target]\n",
    "    return new_list\n",
    "\n",
    "# Example usage\n",
    "original_list = [1, 2, 3, 2, 4, 5, 2, 6]\n",
    "target_element = 2\n",
    "\n",
    "updated_list = remove_element(original_list, target_element)\n",
    "print(f\"The list after removing all occurrences of {target_element}: {updated_list}\")\n"
   ]
  },
  {
   "cell_type": "code",
   "execution_count": 18,
   "id": "d4f1c859-f36b-4816-a49c-bb2a5dbf875e",
   "metadata": {
    "tags": []
   },
   "outputs": [
    {
     "name": "stdout",
     "output_type": "stream",
     "text": [
      "Multiplication table for 1:\n",
      "1 x 1 = 1\n",
      "1 x 2 = 2\n",
      "1 x 3 = 3\n",
      "1 x 4 = 4\n",
      "1 x 5 = 5\n",
      "1 x 6 = 6\n",
      "1 x 7 = 7\n",
      "1 x 8 = 8\n",
      "1 x 9 = 9\n",
      "1 x 10 = 10\n",
      "\n",
      "Multiplication table for 2:\n",
      "2 x 1 = 2\n",
      "2 x 2 = 4\n",
      "2 x 3 = 6\n",
      "2 x 4 = 8\n",
      "2 x 5 = 10\n",
      "2 x 6 = 12\n",
      "2 x 7 = 14\n",
      "2 x 8 = 16\n",
      "2 x 9 = 18\n",
      "2 x 10 = 20\n",
      "\n",
      "Multiplication table for 3:\n",
      "3 x 1 = 3\n",
      "3 x 2 = 6\n",
      "3 x 3 = 9\n",
      "3 x 4 = 12\n",
      "3 x 5 = 15\n",
      "3 x 6 = 18\n",
      "3 x 7 = 21\n",
      "3 x 8 = 24\n",
      "3 x 9 = 27\n",
      "3 x 10 = 30\n",
      "\n",
      "Multiplication table for 4:\n",
      "4 x 1 = 4\n",
      "4 x 2 = 8\n",
      "4 x 3 = 12\n",
      "4 x 4 = 16\n",
      "4 x 5 = 20\n",
      "4 x 6 = 24\n",
      "4 x 7 = 28\n",
      "4 x 8 = 32\n",
      "4 x 9 = 36\n",
      "4 x 10 = 40\n",
      "\n",
      "Multiplication table for 5:\n",
      "5 x 1 = 5\n",
      "5 x 2 = 10\n",
      "5 x 3 = 15\n",
      "5 x 4 = 20\n",
      "5 x 5 = 25\n",
      "5 x 6 = 30\n",
      "5 x 7 = 35\n",
      "5 x 8 = 40\n",
      "5 x 9 = 45\n",
      "5 x 10 = 50\n",
      "\n"
     ]
    }
   ],
   "source": [
    "#16 # Python program to generate a multiplication table for numbers from 1 to 5 using nested for loops\n",
    "\n",
    "for i in range(1, 6):\n",
    "    print(f\"Multiplication table for {i}:\")\n",
    "\n",
    "    for j in range(1, 11):\n",
    "        result = i * j\n",
    "        print(f\"{i} x {j} = {result}\")\n",
    "\n",
    "    print()  # Print a newline after each table\n"
   ]
  },
  {
   "cell_type": "code",
   "execution_count": 19,
   "id": "27e055b8-5039-41fb-a891-ecf05833bdc0",
   "metadata": {
    "tags": []
   },
   "outputs": [
    {
     "name": "stdout",
     "output_type": "stream",
     "text": [
      "Fahrenheit temperatures: [32, 68, 95, 104, 212]\n",
      "Celsius temperatures: [0.0, 20.0, 35.0, 40.0, 100.0]\n"
     ]
    }
   ],
   "source": [
    "#17# Python program to convert a list of Fahrenheit temperatures to Celsius using a for loop\n",
    "\n",
    "def fahrenheit_to_celsius(fahrenheit):\n",
    "    return (fahrenheit - 32) * 5/9\n",
    "\n",
    "# Example usage\n",
    "fahrenheit_temperatures = [32, 68, 95, 104, 212]\n",
    "celsius_temperatures = []\n",
    "\n",
    "for temp_f in fahrenheit_temperatures:\n",
    "    temp_c = fahrenheit_to_celsius(temp_f)\n",
    "    celsius_temperatures.append(temp_c)\n",
    "\n",
    "print(f\"Fahrenheit temperatures: {fahrenheit_temperatures}\")\n",
    "print(f\"Celsius temperatures: {celsius_temperatures}\")\n"
   ]
  },
  {
   "cell_type": "code",
   "execution_count": 20,
   "id": "7657f4e8-9f19-4366-9973-46cfbd9917d2",
   "metadata": {
    "tags": []
   },
   "outputs": [
    {
     "name": "stdout",
     "output_type": "stream",
     "text": [
      "Common elements between the two lists: [3, 4, 5]\n"
     ]
    }
   ],
   "source": [
    "#18 # Python program to print common elements from two lists using a for loop\n",
    "\n",
    "def find_common_elements(list1, list2):\n",
    "    common_elements = []\n",
    "\n",
    "    for elem1 in list1:\n",
    "        for elem2 in list2:\n",
    "            if elem1 == elem2:\n",
    "                common_elements.append(elem1)\n",
    "                break  # Break to avoid duplicates\n",
    "\n",
    "    return common_elements\n",
    "\n",
    "# Example usage\n",
    "list1 = [1, 2, 3, 4, 5]\n",
    "list2 = [3, 4, 5, 6, 7]\n",
    "\n",
    "common_elements_result = find_common_elements(list1, list2)\n",
    "print(f\"Common elements between the two lists: {common_elements_result}\")\n"
   ]
  },
  {
   "cell_type": "code",
   "execution_count": 21,
   "id": "7c9e9df3-fb62-4292-a81a-aed257d77ba3",
   "metadata": {
    "tags": []
   },
   "outputs": [
    {
     "name": "stdout",
     "output_type": "stream",
     "text": [
      "* \n",
      "* * \n",
      "* * * \n",
      "* * * * \n",
      "* * * * * \n"
     ]
    }
   ],
   "source": [
    "#19 # Python program to print the pattern of right-angled triangles using a for loop\n",
    "\n",
    "def print_right_angle_triangle(rows):\n",
    "    for i in range(1, rows + 1):\n",
    "        for j in range(i):\n",
    "            print('*', end=' ')\n",
    "        print()\n",
    "\n",
    "# Example usage\n",
    "triangle_rows = 5\n",
    "print_right_angle_triangle(triangle_rows)\n"
   ]
  },
  {
   "cell_type": "code",
   "execution_count": 22,
   "id": "bc9b42ae-ab0a-472c-ba89-e0005336c55d",
   "metadata": {
    "tags": []
   },
   "outputs": [
    {
     "name": "stdout",
     "output_type": "stream",
     "text": [
      "The GCD of 36 and 48 is: 12\n"
     ]
    }
   ],
   "source": [
    "#20# Python program to find the greatest common divisor (GCD) of two numbers using a for loop\n",
    "\n",
    "def find_gcd(num1, num2):\n",
    "    smaller_number = min(num1, num2)\n",
    "\n",
    "    for i in range(smaller_number, 0, -1):\n",
    "        if num1 % i == 0 and num2 % i == 0:\n",
    "            return i\n",
    "\n",
    "    return 1  # If no common divisor is found, return 1\n",
    "\n",
    "# Example usage\n",
    "number1 = 36\n",
    "number2 = 48\n",
    "\n",
    "gcd_result = find_gcd(number1, number2)\n",
    "print(f\"The GCD of {number1} and {number2} is: {gcd_result}\")\n"
   ]
  },
  {
   "cell_type": "code",
   "execution_count": 23,
   "id": "61f8be2f-05b6-4761-b358-d21d18ebe333",
   "metadata": {
    "tags": []
   },
   "outputs": [
    {
     "name": "stdout",
     "output_type": "stream",
     "text": [
      "Original list: [123, 456, 789, 9876]\n",
      "Sum of digits for each number: [6, 15, 24, 30]\n"
     ]
    }
   ],
   "source": [
    "#Advanced level\n",
    "#21# Python program to calculate the sum of the digits of numbers in a list using list comprehension\n",
    "\n",
    "def sum_of_digits(num):\n",
    "    return sum(int(digit) for digit in str(num) if digit.isdigit())\n",
    "\n",
    "# Example usage\n",
    "numbers_list = [123, 456, 789, 9876]\n",
    "\n",
    "sum_of_digits_list = [sum_of_digits(num) for num in numbers_list]\n",
    "\n",
    "print(f\"Original list: {numbers_list}\")\n",
    "print(f\"Sum of digits for each number: {sum_of_digits_list}\")\n"
   ]
  },
  {
   "cell_type": "code",
   "execution_count": 24,
   "id": "72b131d0-967b-40c0-88f7-4114dbf41daf",
   "metadata": {
    "tags": []
   },
   "outputs": [
    {
     "name": "stdout",
     "output_type": "stream",
     "text": [
      "The prime factors of 60 are: [2, 3, 5]\n"
     ]
    }
   ],
   "source": [
    "#22 # Python program to find the prime factors of a given number using a for loop and list comprehension\n",
    "\n",
    "def is_prime(num):\n",
    "    if num < 2:\n",
    "        return False\n",
    "    for i in range(2, int(num**0.5) + 1):\n",
    "        if num % i == 0:\n",
    "            return False\n",
    "    return True\n",
    "\n",
    "def prime_factors(number):\n",
    "    return [factor for factor in range(2, number + 1) if number % factor == 0 and is_prime(factor)]\n",
    "\n",
    "# Example usage\n",
    "input_number = 60\n",
    "factors_result = prime_factors(input_number)\n",
    "\n",
    "print(f\"The prime factors of {input_number} are: {factors_result}\")\n"
   ]
  },
  {
   "cell_type": "code",
   "execution_count": 25,
   "id": "31f670ff-40a5-4009-90ce-c344d7668ac1",
   "metadata": {
    "tags": []
   },
   "outputs": [
    {
     "name": "stdout",
     "output_type": "stream",
     "text": [
      "Original list: [1, 2, 2, 3, 4, 4, 5, 6, 6, 7]\n",
      "List with unique elements: [1, 2, 3, 4, 5, 6, 7]\n"
     ]
    }
   ],
   "source": [
    "#23 # Python program to extract unique elements from a list using list comprehension\n",
    "\n",
    "def extract_unique_elements(input_list):\n",
    "    return list(set(input_list))\n",
    "\n",
    "# Example usage\n",
    "original_list = [1, 2, 2, 3, 4, 4, 5, 6, 6, 7]\n",
    "unique_elements_list = extract_unique_elements(original_list)\n",
    "\n",
    "print(f\"Original list: {original_list}\")\n",
    "print(f\"List with unique elements: {unique_elements_list}\")\n"
   ]
  },
  {
   "cell_type": "code",
   "execution_count": 26,
   "id": "97c1faa9-82a8-4f41-8d3c-ef078ae7b6a6",
   "metadata": {
    "tags": []
   },
   "outputs": [
    {
     "name": "stdout",
     "output_type": "stream",
     "text": [
      "Palindromic numbers up to 1000: [0, 1, 2, 3, 4, 5, 6, 7, 8, 9, 11, 22, 33, 44, 55, 66, 77, 88, 99, 101, 111, 121, 131, 141, 151, 161, 171, 181, 191, 202, 212, 222, 232, 242, 252, 262, 272, 282, 292, 303, 313, 323, 333, 343, 353, 363, 373, 383, 393, 404, 414, 424, 434, 444, 454, 464, 474, 484, 494, 505, 515, 525, 535, 545, 555, 565, 575, 585, 595, 606, 616, 626, 636, 646, 656, 666, 676, 686, 696, 707, 717, 727, 737, 747, 757, 767, 777, 787, 797, 808, 818, 828, 838, 848, 858, 868, 878, 888, 898, 909, 919, 929, 939, 949, 959, 969, 979, 989, 999]\n"
     ]
    }
   ],
   "source": [
    "#24 # Python program to generate a list of palindromic numbers up to a specified limit using list comprehension\n",
    "\n",
    "def is_palindrome(number):\n",
    "    return str(number) == str(number)[::-1]\n",
    "\n",
    "def generate_palindromic_numbers(limit):\n",
    "    return [num for num in range(limit + 1) if is_palindrome(num)]\n",
    "\n",
    "# Example usage\n",
    "upper_limit = 1000\n",
    "palindromic_numbers_list = generate_palindromic_numbers(upper_limit)\n",
    "\n",
    "print(f\"Palindromic numbers up to {upper_limit}: {palindromic_numbers_list}\")\n"
   ]
  },
  {
   "cell_type": "code",
   "execution_count": 27,
   "id": "8a41ff67-3e23-4b56-ac2a-ddaba72dcce8",
   "metadata": {
    "tags": []
   },
   "outputs": [
    {
     "name": "stdout",
     "output_type": "stream",
     "text": [
      "Nested List: [[1, 2, 3], [4, 5], [6, 7, 8]]\n",
      "Flattened List: [1, 2, 3, 4, 5, 6, 7, 8]\n"
     ]
    }
   ],
   "source": [
    "#25 # Python program to flatten a nested list using list comprehension\n",
    "\n",
    "def flatten_nested_list(nested_list):\n",
    "    return [element for sublist in nested_list for element in sublist]\n",
    "\n",
    "# Example usage\n",
    "nested_list = [[1, 2, 3], [4, 5], [6, 7, 8]]\n",
    "flattened_list = flatten_nested_list(nested_list)\n",
    "\n",
    "print(f\"Nested List: {nested_list}\")\n",
    "print(f\"Flattened List: {flattened_list}\")\n"
   ]
  },
  {
   "cell_type": "code",
   "execution_count": 28,
   "id": "95e63d5b-a8b7-4ab5-b677-05e36826a3ed",
   "metadata": {
    "tags": []
   },
   "outputs": [
    {
     "name": "stdout",
     "output_type": "stream",
     "text": [
      "Original List: [1, 2, 3, 4, 5, 6, 7, 8, 9, 10]\n",
      "Sum of even numbers: 30\n",
      "Sum of odd numbers: 25\n"
     ]
    }
   ],
   "source": [
    "#26# Python program to compute the sum of even and odd numbers in a list separately using list comprehension\n",
    "\n",
    "def separate_even_odd_sums(numbers):\n",
    "    even_sum = sum([num for num in numbers if num % 2 == 0])\n",
    "    odd_sum = sum([num for num in numbers if num % 2 != 0])\n",
    "    return even_sum, odd_sum\n",
    "\n",
    "# Example usage\n",
    "numbers_list = [1, 2, 3, 4, 5, 6, 7, 8, 9, 10]\n",
    "even_sum, odd_sum = separate_even_odd_sums(numbers_list)\n",
    "\n",
    "print(f\"Original List: {numbers_list}\")\n",
    "print(f\"Sum of even numbers: {even_sum}\")\n",
    "print(f\"Sum of odd numbers: {odd_sum}\")\n"
   ]
  },
  {
   "cell_type": "code",
   "execution_count": 30,
   "id": "a5e4c825-e578-436c-b2c6-a4ac7bb28024",
   "metadata": {
    "tags": []
   },
   "outputs": [
    {
     "name": "stdout",
     "output_type": "stream",
     "text": [
      "Squares of odd numbers between 1 and 10: [1, 9, 25, 49, 81]\n"
     ]
    }
   ],
   "source": [
    "#27# Python program to generate a list of squares of odd numbers between 1 and 10 using list comprehension\n",
    "\n",
    "squares_of_odd_numbers = [num ** 2 for num in range(1, 11) if num % 2 != 0]\n",
    "\n",
    "# Example usage\n",
    "print(f\"Squares of odd numbers between 1 and 10: {squares_of_odd_numbers}\")\n"
   ]
  },
  {
   "cell_type": "code",
   "execution_count": 31,
   "id": "f6d0c820-c99f-416b-948d-f84ff421d4c9",
   "metadata": {
    "tags": []
   },
   "outputs": [
    {
     "name": "stdout",
     "output_type": "stream",
     "text": [
      "Combined Dictionary: {'name': 'Alice', 'age': 25, 'city': 'Wonderland'}\n"
     ]
    }
   ],
   "source": [
    "#28# Python program to combine two lists into a dictionary using list comprehension\n",
    "\n",
    "keys = ['name', 'age', 'city']\n",
    "values = ['Alice', 25, 'Wonderland']\n",
    "\n",
    "combined_dict = {keys[i]: values[i] for i in range(min(len(keys), len(values)))}\n",
    "\n",
    "# Example usage\n",
    "print(f\"Combined Dictionary: {combined_dict}\")\n"
   ]
  },
  {
   "cell_type": "code",
   "execution_count": 32,
   "id": "a1861923-2602-415c-b89c-89b3c89d8141",
   "metadata": {
    "tags": []
   },
   "outputs": [
    {
     "name": "stdout",
     "output_type": "stream",
     "text": [
      "Original String: Hello, World!\n",
      "List of Vowels: ['e', 'o', 'o']\n"
     ]
    }
   ],
   "source": [
    "#29 # Python program to extract vowels from a string using list comprehension\n",
    "\n",
    "def extract_vowels(input_string):\n",
    "    vowels = ['a', 'e', 'i', 'o', 'u', 'A', 'E', 'I', 'O', 'U']\n",
    "    return [char for char in input_string if char in vowels]\n",
    "\n",
    "# Example usage\n",
    "input_str = \"Hello, World!\"\n",
    "vowels_list = extract_vowels(input_str)\n",
    "\n",
    "print(f\"Original String: {input_str}\")\n",
    "print(f\"List of Vowels: {vowels_list}\")\n"
   ]
  },
  {
   "cell_type": "code",
   "execution_count": 33,
   "id": "dcd38712-7810-436a-bb54-759220928d5f",
   "metadata": {
    "tags": []
   },
   "outputs": [
    {
     "name": "stdout",
     "output_type": "stream",
     "text": [
      "Original List of Strings: ['abc123', '45xyz', '789', '!@#456']\n",
      "List with Non-Numeric Characters Removed: ['123', '45', '789', '456']\n"
     ]
    }
   ],
   "source": [
    "#30 # Python program to remove non-numeric characters from a list of strings using list comprehension\n",
    "\n",
    "def remove_non_numeric(strings_list):\n",
    "    return [''.join(char for char in string if char.isdigit()) for string in strings_list]\n",
    "\n",
    "# Example usage\n",
    "strings_list = [\"abc123\", \"45xyz\", \"789\", \"!@#456\"]\n",
    "numeric_strings_list = remove_non_numeric(strings_list)\n",
    "\n",
    "print(f\"Original List of Strings: {strings_list}\")\n",
    "print(f\"List with Non-Numeric Characters Removed: {numeric_strings_list}\")\n"
   ]
  },
  {
   "cell_type": "code",
   "execution_count": 34,
   "id": "bc835437-70b5-4690-bece-06d23f6f347b",
   "metadata": {
    "tags": []
   },
   "outputs": [
    {
     "name": "stdout",
     "output_type": "stream",
     "text": [
      "Prime numbers up to 50: [2, 3, 5, 7, 11, 13, 17, 19, 23, 29, 31, 37, 41, 43, 47]\n"
     ]
    }
   ],
   "source": [
    "#challenge level\n",
    "#31# Python program to generate a list of prime numbers using the Sieve of Eratosthenes and list comprehension\n",
    "\n",
    "def sieve_of_eratosthenes(limit):\n",
    "    sieve = [True] * (limit + 1)\n",
    "    sieve[0], sieve[1] = False, False  # 0 and 1 are not prime numbers\n",
    "\n",
    "    for num in range(2, int(limit**0.5) + 1):\n",
    "        if sieve[num]:\n",
    "            sieve[num*num : limit+1 : num] = [False] * len(sieve[num*num : limit+1 : num])\n",
    "\n",
    "    return [num for num in range(limit + 1) if sieve[num]]\n",
    "\n",
    "# Example usage\n",
    "limit = 50\n",
    "prime_numbers = sieve_of_eratosthenes(limit)\n",
    "\n",
    "print(f\"Prime numbers up to {limit}: {prime_numbers}\")\n"
   ]
  },
  {
   "cell_type": "code",
   "execution_count": 35,
   "id": "d535ad6e-53c0-443a-a369-ab2fb9aef313",
   "metadata": {
    "tags": []
   },
   "outputs": [
    {
     "name": "stdout",
     "output_type": "stream",
     "text": [
      "Pythagorean triplets up to 20: [(3, 4, 5), (5, 12, 13), (6, 8, 10), (8, 15, 17), (9, 12, 15), (12, 16, 20)]\n"
     ]
    }
   ],
   "source": [
    "#32 # Python program to generate a list of all Pythagorean triplets up to a specified limit using list comprehension\n",
    "\n",
    "def pythagorean_triplets(limit):\n",
    "    return [(a, b, c) for a in range(1, limit + 1) for b in range(a, limit + 1) for c in range(b, limit + 1) if a**2 + b**2 == c**2]\n",
    "\n",
    "# Example usage\n",
    "limit = 20\n",
    "triplets = pythagorean_triplets(limit)\n",
    "\n",
    "print(f\"Pythagorean triplets up to {limit}: {triplets}\")\n"
   ]
  },
  {
   "cell_type": "code",
   "execution_count": 36,
   "id": "74fe775f-51c4-484a-9e1d-9458a74cfcd4",
   "metadata": {
    "tags": []
   },
   "outputs": [
    {
     "name": "stdout",
     "output_type": "stream",
     "text": [
      "List 1: ['a', 'b', 'c']\n",
      "List 2: [1, 2, 3]\n",
      "All possible combinations: [('a', 1), ('a', 2), ('a', 3), ('b', 1), ('b', 2), ('b', 3), ('c', 1), ('c', 2), ('c', 3)]\n"
     ]
    }
   ],
   "source": [
    "#33 # Python program to generate a list of all possible combinations of two lists using list comprehension\n",
    "\n",
    "def generate_combinations(list1, list2):\n",
    "    return [(x, y) for x in list1 for y in list2]\n",
    "\n",
    "# Example usage\n",
    "list1 = ['a', 'b', 'c']\n",
    "list2 = [1, 2, 3]\n",
    "combinations = generate_combinations(list1, list2)\n",
    "\n",
    "print(f\"List 1: {list1}\")\n",
    "print(f\"List 2: {list2}\")\n",
    "print(f\"All possible combinations: {combinations}\")\n"
   ]
  },
  {
   "cell_type": "code",
   "execution_count": 45,
   "id": "1b64ba2c-9e63-4451-bc64-682395df5672",
   "metadata": {
    "tags": []
   },
   "outputs": [
    {
     "name": "stdout",
     "output_type": "stream",
     "text": [
      "List of Numbers: [2, 4, 6, 4, 8, 10, 4, 6, 4, 12]\n",
      "Mean: 6\n",
      "Median: 5.0\n",
      "Mode: 4\n"
     ]
    }
   ],
   "source": [
    "#34\n",
    "from statistics import mean, median, mode\n",
    "\n",
    "# Python program to calculate mean, median, and mode of a list of numbers using list comprehension\n",
    "\n",
    "def calculate_statistics(numbers):\n",
    "    return mean(numbers), median(numbers), mode(numbers)\n",
    "\n",
    "# Example usage\n",
    "number_list = [2, 4, 6, 4, 8, 10, 4, 6, 4, 12]\n",
    "mean_val, median_val, mode_val = calculate_statistics(number_list)\n",
    "\n",
    "print(f\"List of Numbers: {number_list}\")\n",
    "print(f\"Mean: {mean_val}\")\n",
    "print(f\"Median: {median_val}\")\n",
    "print(f\"Mode: {mode_val}\")\n"
   ]
  },
  {
   "cell_type": "code",
   "execution_count": 49,
   "id": "902e7987-77af-45c0-98ce-5012e70a2bdf",
   "metadata": {
    "tags": []
   },
   "outputs": [
    {
     "name": "stdout",
     "output_type": "stream",
     "text": [
      "[1]\n",
      "[1, 1]\n",
      "[1, 2, 1]\n",
      "[1, 3, 3, 1]\n",
      "[1, 4, 6, 4, 1]\n",
      "[1, 5, 10, 10, 5, 1]\n"
     ]
    },
    {
     "data": {
      "text/plain": [
       "True"
      ]
     },
     "execution_count": 49,
     "metadata": {},
     "output_type": "execute_result"
    }
   ],
   "source": [
    "#35 Define a function named 'pascal_triangle' that generates Pascal's Triangle up to row 'n'\n",
    "def pascal_triangle(n):\n",
    "    # Initialize the first row of Pascal's Triangle with value 1 as a starting point\n",
    "    trow = [1]\n",
    "    \n",
    "    # Create a list 'y' filled with zeros to be used for calculations\n",
    "    y = [0]\n",
    "    \n",
    "    # Iterate through a range starting from 0 up to the maximum of 'n' or 0 (taking the maximum to handle negative 'n')\n",
    "    for x in range(max(n, 0)):\n",
    "        # Print the current row of Pascal's Triangle\n",
    "        print(trow)\n",
    "        \n",
    "        # Update the current row based on the previous row by calculating the next row using list comprehension\n",
    "        # The formula for generating the next row in Pascal's Triangle is based on addition of consecutive elements\n",
    "        trow = [l + r for l, r in zip(trow + y, y + trow)]\n",
    "    \n",
    "    # Return True if 'n' is greater than or equal to 1, else return False\n",
    "    return n >= 1\n",
    "\n",
    "# Generate Pascal's Triangle up to row 6 by calling the 'pascal_triangle' function\n",
    "pascal_triangle(6) "
   ]
  },
  {
   "cell_type": "code",
   "execution_count": 50,
   "id": "73c14cfa-26c3-49ea-8268-8fb408a5202d",
   "metadata": {
    "tags": []
   },
   "outputs": [
    {
     "name": "stdout",
     "output_type": "stream",
     "text": [
      "Factorial Sum of Digits for numbers 1 to 5: [1, 2, 6, 6, 3]\n"
     ]
    }
   ],
   "source": [
    "#36# Python program to calculate the sum of the digits of the factorial of numbers from 1 to 5 using list comprehension\n",
    "\n",
    "def factorial(n):\n",
    "    return 1 if n == 0 else n * factorial(n - 1)\n",
    "\n",
    "def sum_of_digits_factorial_range(start, end):\n",
    "    return [sum(int(digit) for digit in str(factorial(num))) for num in range(start, end + 1)]\n",
    "\n",
    "# Example usage\n",
    "start_number = 1\n",
    "end_number = 5\n",
    "sums_list = sum_of_digits_factorial_range(start_number, end_number)\n",
    "\n",
    "print(f\"Factorial Sum of Digits for numbers {start_number} to {end_number}: {sums_list}\")\n"
   ]
  },
  {
   "cell_type": "code",
   "execution_count": 51,
   "id": "3de3eff7-8256-4c83-bc00-7979b33f0ce9",
   "metadata": {
    "tags": []
   },
   "outputs": [
    {
     "name": "stdout",
     "output_type": "stream",
     "text": [
      "Input Sentence: This is a sample sentence to find the longest word.\n",
      "Longest Word: sentence\n"
     ]
    }
   ],
   "source": [
    "#37# Python program to find the longest word in a sentence using list comprehension\n",
    "\n",
    "def longest_word(sentence):\n",
    "    words = sentence.split()\n",
    "    longest = max(words, key=len)\n",
    "    return longest\n",
    "\n",
    "# Example usage\n",
    "input_sentence = \"This is a sample sentence to find the longest word.\"\n",
    "result = longest_word(input_sentence)\n",
    "\n",
    "print(f\"Input Sentence: {input_sentence}\")\n",
    "print(f\"Longest Word: {result}\")\n"
   ]
  },
  {
   "cell_type": "code",
   "execution_count": 52,
   "id": "d69d64db-237b-43c2-9b1b-2414049d9e39",
   "metadata": {
    "tags": []
   },
   "outputs": [
    {
     "name": "stdout",
     "output_type": "stream",
     "text": [
      "Original List of Strings: ['hello', 'programming', 'python', 'example', 'vowel', 'filter']\n",
      "Filtered List with More than Three Vowels: []\n"
     ]
    }
   ],
   "source": [
    "#38 # Python program to filter a list of strings with more than three vowels using list comprehension\n",
    "\n",
    "def count_vowels(word):\n",
    "    vowels = \"aeiouAEIOU\"\n",
    "    return sum(1 for char in word if char in vowels)\n",
    "\n",
    "def filter_strings_with_more_than_three_vowels(string_list):\n",
    "    return [word for word in string_list if count_vowels(word) > 3]\n",
    "\n",
    "# Example usage\n",
    "input_strings = [\"hello\", \"programming\", \"python\", \"example\", \"vowel\", \"filter\"]\n",
    "filtered_strings = filter_strings_with_more_than_three_vowels(input_strings)\n",
    "\n",
    "print(f\"Original List of Strings: {input_strings}\")\n",
    "print(f\"Filtered List with More than Three Vowels: {filtered_strings}\")\n"
   ]
  },
  {
   "cell_type": "code",
   "execution_count": 53,
   "id": "053e9af2-d3ec-42d6-bea7-e7a095d4ca27",
   "metadata": {
    "tags": []
   },
   "outputs": [
    {
     "name": "stdout",
     "output_type": "stream",
     "text": [
      "Sum of digits for numbers from 1 to 1000: [1, 2, 3, 4, 5, 6, 7, 8, 9, 1, 2, 3, 4, 5, 6, 7, 8, 9, 10, 2, 3, 4, 5, 6, 7, 8, 9, 10, 11, 3, 4, 5, 6, 7, 8, 9, 10, 11, 12, 4, 5, 6, 7, 8, 9, 10, 11, 12, 13, 5, 6, 7, 8, 9, 10, 11, 12, 13, 14, 6, 7, 8, 9, 10, 11, 12, 13, 14, 15, 7, 8, 9, 10, 11, 12, 13, 14, 15, 16, 8, 9, 10, 11, 12, 13, 14, 15, 16, 17, 9, 10, 11, 12, 13, 14, 15, 16, 17, 18, 1, 2, 3, 4, 5, 6, 7, 8, 9, 10, 2, 3, 4, 5, 6, 7, 8, 9, 10, 11, 3, 4, 5, 6, 7, 8, 9, 10, 11, 12, 4, 5, 6, 7, 8, 9, 10, 11, 12, 13, 5, 6, 7, 8, 9, 10, 11, 12, 13, 14, 6, 7, 8, 9, 10, 11, 12, 13, 14, 15, 7, 8, 9, 10, 11, 12, 13, 14, 15, 16, 8, 9, 10, 11, 12, 13, 14, 15, 16, 17, 9, 10, 11, 12, 13, 14, 15, 16, 17, 18, 10, 11, 12, 13, 14, 15, 16, 17, 18, 19, 2, 3, 4, 5, 6, 7, 8, 9, 10, 11, 3, 4, 5, 6, 7, 8, 9, 10, 11, 12, 4, 5, 6, 7, 8, 9, 10, 11, 12, 13, 5, 6, 7, 8, 9, 10, 11, 12, 13, 14, 6, 7, 8, 9, 10, 11, 12, 13, 14, 15, 7, 8, 9, 10, 11, 12, 13, 14, 15, 16, 8, 9, 10, 11, 12, 13, 14, 15, 16, 17, 9, 10, 11, 12, 13, 14, 15, 16, 17, 18, 10, 11, 12, 13, 14, 15, 16, 17, 18, 19, 11, 12, 13, 14, 15, 16, 17, 18, 19, 20, 3, 4, 5, 6, 7, 8, 9, 10, 11, 12, 4, 5, 6, 7, 8, 9, 10, 11, 12, 13, 5, 6, 7, 8, 9, 10, 11, 12, 13, 14, 6, 7, 8, 9, 10, 11, 12, 13, 14, 15, 7, 8, 9, 10, 11, 12, 13, 14, 15, 16, 8, 9, 10, 11, 12, 13, 14, 15, 16, 17, 9, 10, 11, 12, 13, 14, 15, 16, 17, 18, 10, 11, 12, 13, 14, 15, 16, 17, 18, 19, 11, 12, 13, 14, 15, 16, 17, 18, 19, 20, 12, 13, 14, 15, 16, 17, 18, 19, 20, 21, 4, 5, 6, 7, 8, 9, 10, 11, 12, 13, 5, 6, 7, 8, 9, 10, 11, 12, 13, 14, 6, 7, 8, 9, 10, 11, 12, 13, 14, 15, 7, 8, 9, 10, 11, 12, 13, 14, 15, 16, 8, 9, 10, 11, 12, 13, 14, 15, 16, 17, 9, 10, 11, 12, 13, 14, 15, 16, 17, 18, 10, 11, 12, 13, 14, 15, 16, 17, 18, 19, 11, 12, 13, 14, 15, 16, 17, 18, 19, 20, 12, 13, 14, 15, 16, 17, 18, 19, 20, 21, 13, 14, 15, 16, 17, 18, 19, 20, 21, 22, 5, 6, 7, 8, 9, 10, 11, 12, 13, 14, 6, 7, 8, 9, 10, 11, 12, 13, 14, 15, 7, 8, 9, 10, 11, 12, 13, 14, 15, 16, 8, 9, 10, 11, 12, 13, 14, 15, 16, 17, 9, 10, 11, 12, 13, 14, 15, 16, 17, 18, 10, 11, 12, 13, 14, 15, 16, 17, 18, 19, 11, 12, 13, 14, 15, 16, 17, 18, 19, 20, 12, 13, 14, 15, 16, 17, 18, 19, 20, 21, 13, 14, 15, 16, 17, 18, 19, 20, 21, 22, 14, 15, 16, 17, 18, 19, 20, 21, 22, 23, 6, 7, 8, 9, 10, 11, 12, 13, 14, 15, 7, 8, 9, 10, 11, 12, 13, 14, 15, 16, 8, 9, 10, 11, 12, 13, 14, 15, 16, 17, 9, 10, 11, 12, 13, 14, 15, 16, 17, 18, 10, 11, 12, 13, 14, 15, 16, 17, 18, 19, 11, 12, 13, 14, 15, 16, 17, 18, 19, 20, 12, 13, 14, 15, 16, 17, 18, 19, 20, 21, 13, 14, 15, 16, 17, 18, 19, 20, 21, 22, 14, 15, 16, 17, 18, 19, 20, 21, 22, 23, 15, 16, 17, 18, 19, 20, 21, 22, 23, 24, 7, 8, 9, 10, 11, 12, 13, 14, 15, 16, 8, 9, 10, 11, 12, 13, 14, 15, 16, 17, 9, 10, 11, 12, 13, 14, 15, 16, 17, 18, 10, 11, 12, 13, 14, 15, 16, 17, 18, 19, 11, 12, 13, 14, 15, 16, 17, 18, 19, 20, 12, 13, 14, 15, 16, 17, 18, 19, 20, 21, 13, 14, 15, 16, 17, 18, 19, 20, 21, 22, 14, 15, 16, 17, 18, 19, 20, 21, 22, 23, 15, 16, 17, 18, 19, 20, 21, 22, 23, 24, 16, 17, 18, 19, 20, 21, 22, 23, 24, 25, 8, 9, 10, 11, 12, 13, 14, 15, 16, 17, 9, 10, 11, 12, 13, 14, 15, 16, 17, 18, 10, 11, 12, 13, 14, 15, 16, 17, 18, 19, 11, 12, 13, 14, 15, 16, 17, 18, 19, 20, 12, 13, 14, 15, 16, 17, 18, 19, 20, 21, 13, 14, 15, 16, 17, 18, 19, 20, 21, 22, 14, 15, 16, 17, 18, 19, 20, 21, 22, 23, 15, 16, 17, 18, 19, 20, 21, 22, 23, 24, 16, 17, 18, 19, 20, 21, 22, 23, 24, 25, 17, 18, 19, 20, 21, 22, 23, 24, 25, 26, 9, 10, 11, 12, 13, 14, 15, 16, 17, 18, 10, 11, 12, 13, 14, 15, 16, 17, 18, 19, 11, 12, 13, 14, 15, 16, 17, 18, 19, 20, 12, 13, 14, 15, 16, 17, 18, 19, 20, 21, 13, 14, 15, 16, 17, 18, 19, 20, 21, 22, 14, 15, 16, 17, 18, 19, 20, 21, 22, 23, 15, 16, 17, 18, 19, 20, 21, 22, 23, 24, 16, 17, 18, 19, 20, 21, 22, 23, 24, 25, 17, 18, 19, 20, 21, 22, 23, 24, 25, 26, 18, 19, 20, 21, 22, 23, 24, 25, 26, 27, 1]\n"
     ]
    }
   ],
   "source": [
    "#39# Python program to calculate the sum of the digits of numbers from 1 to 1000 using list comprehension\n",
    "\n",
    "def sum_of_digits(number):\n",
    "    return sum(int(digit) for digit in str(number))\n",
    "\n",
    "sums_list = [sum_of_digits(num) for num in range(1, 1001)]\n",
    "\n",
    "# Example usage\n",
    "print(f\"Sum of digits for numbers from 1 to 1000: {sums_list}\")\n"
   ]
  },
  {
   "cell_type": "code",
   "execution_count": 54,
   "id": "9de60797-02fe-4ea9-b68f-12b381e754ce",
   "metadata": {
    "tags": []
   },
   "outputs": [
    {
     "name": "stdout",
     "output_type": "stream",
     "text": [
      "Prime Palindromic numbers up to 1000: [2, 3, 5, 7, 11, 101, 131, 151, 181, 191, 313, 353, 373, 383, 727, 757, 787, 797, 919, 929]\n"
     ]
    }
   ],
   "source": [
    "#40# Python program to generate a list of prime palindromic numbers using list comprehension\n",
    "\n",
    "def is_prime(num):\n",
    "    if num < 2:\n",
    "        return False\n",
    "    for i in range(2, int(num**0.5) + 1):\n",
    "        if num % i == 0:\n",
    "            return False\n",
    "    return True\n",
    "\n",
    "def is_palindrome(number):\n",
    "    return str(number) == str(number)[::-1]\n",
    "\n",
    "# Generate a list of prime palindromic numbers up to a specified limit\n",
    "limit = 1000\n",
    "prime_palindromes = [num for num in range(2, limit) if is_prime(num) and is_palindrome(num)]\n",
    "\n",
    "# Example usage\n",
    "print(f\"Prime Palindromic numbers up to {limit}: {prime_palindromes}\")\n"
   ]
  }
 ],
 "metadata": {
  "kernelspec": {
   "display_name": "Python 3 (ipykernel)",
   "language": "python",
   "name": "python3"
  },
  "language_info": {
   "codemirror_mode": {
    "name": "ipython",
    "version": 3
   },
   "file_extension": ".py",
   "mimetype": "text/x-python",
   "name": "python",
   "nbconvert_exporter": "python",
   "pygments_lexer": "ipython3",
   "version": "3.11.5"
  }
 },
 "nbformat": 4,
 "nbformat_minor": 5
}
